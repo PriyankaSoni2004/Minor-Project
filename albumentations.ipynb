{
 "cells": [
  {
   "cell_type": "code",
   "execution_count": 11,
   "metadata": {},
   "outputs": [],
   "source": [
    "import os\n",
    "import cv2\n",
    "import albumentations as A\n",
    "from glob import glob"
   ]
  },
  {
   "cell_type": "code",
   "execution_count": 12,
   "metadata": {},
   "outputs": [],
   "source": [
    "# Define the input and output folders\n",
    "input_folder = \"1\"\n",
    "output_folder = \"1A\"\n",
    "\n",
    "# Create the output folder if it doesn't exist\n",
    "if not os.path.exists(output_folder):\n",
    "    os.makedirs(output_folder)"
   ]
  },
  {
   "cell_type": "code",
   "execution_count": 13,
   "metadata": {},
   "outputs": [],
   "source": [
    "# Define the augmentation transformations you want to apply\n",
    "transform = A.Compose([\n",
    "    A.Rotate(limit=(-6, 6), p=0.7),\n",
    "    A.HorizontalFlip(p=0.4),  # Randomly flip horizontally with a probability of 50%.\n",
    "    A.RandomBrightness(limit=(-0.3, 0.2), p=0.8),\n",
    "    A.RandomContrast(limit=(-0.1, 0.1), p=0.5),\n",
    "    A.GaussNoise(var_limit=(2.0, 100.0), p=0.2),  # Add random Gaussian noise to the image.\n",
    "    A.RandomScale(scale_limit=0.1, p=0.5),  # Randomly scale the image by up to 20%.\n",
    "])"
   ]
  },
  {
   "cell_type": "code",
   "execution_count": 14,
   "metadata": {},
   "outputs": [],
   "source": [
    "# List all image files in the input folder\n",
    "image_files = glob(os.path.join(input_folder, \"*.png\"))  # Change the file extension as needed"
   ]
  },
  {
   "cell_type": "code",
   "execution_count": 15,
   "metadata": {},
   "outputs": [
    {
     "name": "stdout",
     "output_type": "stream",
     "text": [
      "Augmentation complete. Augmented images saved in 1A\n"
     ]
    }
   ],
   "source": [
    "# Apply augmentation to each image and save the augmented images\n",
    "for i in range(1):\n",
    "    for image_path in image_files:\n",
    "        image = cv2.imread(image_path)\n",
    "        augmented = transform(image=image)\n",
    "        augmented_image = augmented[\"image\"]\n",
    "    \n",
    "        # Extract the file name without extension\n",
    "        file_name = os.path.splitext(os.path.basename(image_path))[0]\n",
    "    \n",
    "        # Save the augmented image in the output folder\n",
    "        output_path = os.path.join(output_folder, f\"{file_name}_augmented_{i}.png\")\n",
    "        cv2.imwrite(output_path, augmented_image)\n",
    "\n",
    "print(\"Augmentation complete. Augmented images saved in\", output_folder)"
   ]
  },
  {
   "cell_type": "code",
   "execution_count": null,
   "metadata": {},
   "outputs": [],
   "source": []
  }
 ],
 "metadata": {
  "kernelspec": {
   "display_name": "Python 3",
   "language": "python",
   "name": "python3"
  },
  "language_info": {
   "codemirror_mode": {
    "name": "ipython",
    "version": 3
   },
   "file_extension": ".py",
   "mimetype": "text/x-python",
   "name": "python",
   "nbconvert_exporter": "python",
   "pygments_lexer": "ipython3",
   "version": "3.11.0"
  }
 },
 "nbformat": 4,
 "nbformat_minor": 2
}
